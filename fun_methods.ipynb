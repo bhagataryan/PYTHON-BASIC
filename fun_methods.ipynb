{
 "cells": [
  {
   "cell_type": "code",
   "execution_count": 1,
   "id": "d97f6b1f-afa8-4c3b-81d8-775cf0014543",
   "metadata": {},
   "outputs": [
    {
     "name": "stdout",
     "output_type": "stream",
     "text": [
      "<class 'int'>\n"
     ]
    }
   ],
   "source": [
    "# what is inbuild class \n",
    "a = 6\n",
    "print(type(a)) "
   ]
  },
  {
   "cell_type": "code",
   "execution_count": 2,
   "id": "b0009313-9d23-4964-9480-87cb922d3b7a",
   "metadata": {},
   "outputs": [
    {
     "name": "stdout",
     "output_type": "stream",
     "text": [
      "<class 'list'>\n"
     ]
    }
   ],
   "source": [
    "l = [2,3,4,]\n",
    "print(type(l))"
   ]
  },
  {
   "cell_type": "code",
   "execution_count": 3,
   "id": "bbceef9c-f70b-45dc-90db-0dc042afd186",
   "metadata": {},
   "outputs": [
    {
     "name": "stdout",
     "output_type": "stream",
     "text": [
      "<class 'tuple'>\n"
     ]
    }
   ],
   "source": [
    "t = (2,3,4,)\n",
    "print(type(t))"
   ]
  },
  {
   "cell_type": "code",
   "execution_count": 4,
   "id": "5f4c214e-67d2-4276-99db-ef8a32196596",
   "metadata": {},
   "outputs": [
    {
     "name": "stdout",
     "output_type": "stream",
     "text": [
      "i5 8gb\n"
     ]
    }
   ],
   "source": [
    "def config(): \n",
    "    print('i5', '8gb')\n",
    "\n",
    "config()"
   ]
  },
  {
   "cell_type": "code",
   "execution_count": 5,
   "id": "5e2ec578-54de-4cc1-b9d0-6bbfba169d84",
   "metadata": {},
   "outputs": [
    {
     "ename": "TypeError",
     "evalue": "nit.config() takes 0 positional arguments but 1 was given",
     "output_type": "error",
     "traceback": [
      "\u001b[1;31m---------------------------------------------------------------------------\u001b[0m",
      "\u001b[1;31mTypeError\u001b[0m                                 Traceback (most recent call last)",
      "Cell \u001b[1;32mIn[5], line 7\u001b[0m\n\u001b[0;32m      3\u001b[0m         \u001b[38;5;28mprint\u001b[39m(\u001b[38;5;124m'\u001b[39m\u001b[38;5;124mi5\u001b[39m\u001b[38;5;124m'\u001b[39m, \u001b[38;5;124m'\u001b[39m\u001b[38;5;124m8gb\u001b[39m\u001b[38;5;124m'\u001b[39m)\n\u001b[0;32m      5\u001b[0m obj \u001b[38;5;241m=\u001b[39m nit()\n\u001b[1;32m----> 7\u001b[0m obj\u001b[38;5;241m.\u001b[39mconfig()\n",
      "\u001b[1;31mTypeError\u001b[0m: nit.config() takes 0 positional arguments but 1 was given"
     ]
    }
   ],
   "source": [
    "class nit():\n",
    "    def config():\n",
    "        print('i5', '8gb')\n",
    "\n",
    "obj = nit()\n",
    "\n",
    "obj.config()"
   ]
  },
  {
   "cell_type": "code",
   "execution_count": 6,
   "id": "778a7ef6-2c52-495b-ba57-2a38c6f317be",
   "metadata": {},
   "outputs": [
    {
     "name": "stdout",
     "output_type": "stream",
     "text": [
      "i5 8gb\n",
      "i5 8gb\n",
      "i5 8gb\n"
     ]
    }
   ],
   "source": [
    "class nit():\n",
    "    def config(self):\n",
    "        print('i5', '8gb')\n",
    "\n",
    "obj1 = nit()\n",
    "obj2 = nit()\n",
    "obj3 = nit()\n",
    "\n",
    "obj1.config()\n",
    "obj2.config()\n",
    "obj3.config()"
   ]
  },
  {
   "cell_type": "code",
   "execution_count": 7,
   "id": "6ba9acd4-758e-4a23-9423-fb5331e6846b",
   "metadata": {},
   "outputs": [
    {
     "name": "stdout",
     "output_type": "stream",
     "text": [
      "i5 8gb\n"
     ]
    }
   ],
   "source": [
    "class nit():\n",
    "    def config():\n",
    "        print('i5', '8gb')\n",
    "\n",
    "obj = nit()\n",
    "\n",
    "nit.config()"
   ]
  },
  {
   "cell_type": "code",
   "execution_count": 8,
   "id": "3b58f819-db31-420b-b538-8d6f0276e7b2",
   "metadata": {},
   "outputs": [
    {
     "name": "stdout",
     "output_type": "stream",
     "text": [
      "i5 8gb\n"
     ]
    }
   ],
   "source": [
    "class nit():\n",
    "    def config(self):\n",
    "        print('i5', '8gb')\n",
    "\n",
    "obj = nit()\n",
    "\n",
    "obj.config()"
   ]
  },
  {
   "cell_type": "code",
   "execution_count": 9,
   "id": "71af1d8b-d60a-4363-b3de-f41916df673a",
   "metadata": {},
   "outputs": [
    {
     "name": "stdout",
     "output_type": "stream",
     "text": [
      "i5 8gb\n"
     ]
    }
   ],
   "source": [
    "class nit():\n",
    "    def config(self):\n",
    "        print('i5', '8gb')\n",
    "\n",
    "obj = nit()\n",
    "\n",
    "nit.config(obj)"
   ]
  },
  {
   "cell_type": "code",
   "execution_count": 10,
   "id": "47b77dd7-e298-443e-a7f0-1906d4a0b9a0",
   "metadata": {},
   "outputs": [
    {
     "name": "stdout",
     "output_type": "stream",
     "text": [
      "i5 8gb\n"
     ]
    }
   ],
   "source": [
    "class computer:        \n",
    "    def config(self):      # self is the object which user passing & it is the keyword we understand later\n",
    "        print('i5', '8gb')\n",
    "\n",
    "com1 = computer()\n",
    "com1.config()\n",
    "#computer.config(com1) #hear com1 act as parameter going to the self"
   ]
  },
  {
   "cell_type": "code",
   "execution_count": 11,
   "id": "0b3d0bec-ccca-4859-9ef0-bb2be4539845",
   "metadata": {},
   "outputs": [
    {
     "name": "stdout",
     "output_type": "stream",
     "text": [
      "i5 8gb\n",
      "i5 8gb\n"
     ]
    }
   ],
   "source": [
    "class computer:        \n",
    "    def __init__(self):      # self is the object which user passing & it is the keyword we understand later\n",
    "        print('i5', '8gb')\n",
    "\n",
    "com1 = computer()\n",
    "com2 = computer()"
   ]
  },
  {
   "cell_type": "code",
   "execution_count": 12,
   "id": "46532c2f-265e-4c34-8fd0-a7468f83665e",
   "metadata": {},
   "outputs": [
    {
     "name": "stdout",
     "output_type": "stream",
     "text": [
      "i5 8gb\n",
      "i5 8gb\n"
     ]
    }
   ],
   "source": [
    "class computer:        \n",
    "    def config(self):      # self is the object which user passing & it is the keyword we understand later\n",
    "        print('i5', '8gb')\n",
    "\n",
    "com1 = computer()\n",
    "com2 = computer()\n",
    "\n",
    "com1.config()\n",
    "com2.config()"
   ]
  },
  {
   "cell_type": "code",
   "execution_count": 13,
   "id": "271ed6fb-6072-4d3f-8663-cedc0a2e9db4",
   "metadata": {},
   "outputs": [
    {
     "name": "stdout",
     "output_type": "stream",
     "text": [
      "i5 8gb\n",
      "i5 8gb\n",
      "i5 8gb\n",
      "i5 8gb\n"
     ]
    }
   ],
   "source": [
    "class computer:        \n",
    "    def __init__(self):      # self is the object which user passing & it is the keyword we understand later\n",
    "        print('i5', '8gb')\n",
    "\n",
    "com1 = computer()\n",
    "com2 = computer()\n",
    "\n",
    "com1.__init__()\n",
    "com2.__init__()"
   ]
  },
  {
   "cell_type": "code",
   "execution_count": 14,
   "id": "740e15ce-5a98-4399-b0d8-d7a706416f3f",
   "metadata": {},
   "outputs": [
    {
     "name": "stdout",
     "output_type": "stream",
     "text": [
      "in init\n",
      "i5 8gb\n"
     ]
    }
   ],
   "source": [
    "class computer:        \n",
    "    \n",
    "    def __init__(self):\n",
    "        print('in init')\n",
    "    \n",
    "    def config(self):     \n",
    "        print('i5', '8gb')\n",
    "\n",
    "com1 = computer()\n",
    "#com2 = computer()\n",
    "\n",
    "com1.config() \n",
    "#com2.config()"
   ]
  },
  {
   "cell_type": "code",
   "execution_count": 15,
   "id": "edc6b690-d0b7-42be-8830-27a7cb04a6b9",
   "metadata": {},
   "outputs": [
    {
     "name": "stdout",
     "output_type": "stream",
     "text": [
      "in init\n",
      "i5 8gb\n"
     ]
    }
   ],
   "source": [
    "class computer: \n",
    "    \n",
    "    def config(self):   \n",
    "        print('i5', '8gb')\n",
    "\n",
    "    def __init__(self):\n",
    "        print('in init')\n",
    "\n",
    "com1 = computer()\n",
    "#com2 = computer()\n",
    "\n",
    "com1.config() \n",
    "#com2.config()"
   ]
  },
  {
   "cell_type": "code",
   "execution_count": null,
   "id": "610f6f45-4ff5-4a6b-8a4c-59daccb23064",
   "metadata": {},
   "outputs": [],
   "source": []
  }
 ],
 "metadata": {
  "kernelspec": {
   "display_name": "Python 3 (ipykernel)",
   "language": "python",
   "name": "python3"
  },
  "language_info": {
   "codemirror_mode": {
    "name": "ipython",
    "version": 3
   },
   "file_extension": ".py",
   "mimetype": "text/x-python",
   "name": "python",
   "nbconvert_exporter": "python",
   "pygments_lexer": "ipython3",
   "version": "3.12.7"
  }
 },
 "nbformat": 4,
 "nbformat_minor": 5
}
