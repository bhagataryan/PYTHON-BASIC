{
 "cells": [
  {
   "cell_type": "code",
   "execution_count": 1,
   "id": "1188d564-9f11-4bd5-a437-f73684b0b1cb",
   "metadata": {},
   "outputs": [
    {
     "name": "stdout",
     "output_type": "stream",
     "text": [
      "2.5\n",
      "bye\n"
     ]
    }
   ],
   "source": [
    "a = 5\n",
    "b = 2\n",
    "print (a/b)\n",
    "print('bye')\n"
   ]
  },
  {
   "cell_type": "code",
   "execution_count": 2,
   "id": "ce152230-73fd-4c34-94d3-f8304da9be6a",
   "metadata": {},
   "outputs": [
    {
     "name": "stdout",
     "output_type": "stream",
     "text": [
      "0.0\n",
      "bye\n"
     ]
    }
   ],
   "source": [
    "c = 5\n",
    "d = 0\n",
    "print(d/c)\n",
    "print('bye')\n"
   ]
  },
  {
   "cell_type": "code",
   "execution_count": 3,
   "id": "73003696-4959-4969-9274-dd754bbb4412",
   "metadata": {},
   "outputs": [
    {
     "ename": "ZeroDivisionError",
     "evalue": "division by zero",
     "output_type": "error",
     "traceback": [
      "\u001b[1;31m---------------------------------------------------------------------------\u001b[0m",
      "\u001b[1;31mZeroDivisionError\u001b[0m                         Traceback (most recent call last)",
      "Cell \u001b[1;32mIn[3], line 3\u001b[0m\n\u001b[0;32m      1\u001b[0m c \u001b[38;5;241m=\u001b[39m \u001b[38;5;241m5\u001b[39m\n\u001b[0;32m      2\u001b[0m d \u001b[38;5;241m=\u001b[39m \u001b[38;5;241m0\u001b[39m\n\u001b[1;32m----> 3\u001b[0m \u001b[38;5;28mprint\u001b[39m(c\u001b[38;5;241m/\u001b[39md)\n\u001b[0;32m      4\u001b[0m \u001b[38;5;28mprint\u001b[39m(\u001b[38;5;124m'\u001b[39m\u001b[38;5;124mbye\u001b[39m\u001b[38;5;124m'\u001b[39m)\n",
      "\u001b[1;31mZeroDivisionError\u001b[0m: division by zero"
     ]
    }
   ],
   "source": [
    "c = 5\n",
    "d = 0\n",
    "print(c/d)\n",
    "print('bye')"
   ]
  },
  {
   "cell_type": "code",
   "execution_count": 4,
   "id": "bd43a999-746d-4b27-90b7-ede283076352",
   "metadata": {},
   "outputs": [
    {
     "name": "stdout",
     "output_type": "stream",
     "text": [
      "bye\n"
     ]
    },
    {
     "ename": "ZeroDivisionError",
     "evalue": "division by zero",
     "output_type": "error",
     "traceback": [
      "\u001b[1;31m---------------------------------------------------------------------------\u001b[0m",
      "\u001b[1;31mZeroDivisionError\u001b[0m                         Traceback (most recent call last)",
      "Cell \u001b[1;32mIn[4], line 5\u001b[0m\n\u001b[0;32m      2\u001b[0m d \u001b[38;5;241m=\u001b[39m \u001b[38;5;241m0\u001b[39m\n\u001b[0;32m      4\u001b[0m \u001b[38;5;28mprint\u001b[39m(\u001b[38;5;124m'\u001b[39m\u001b[38;5;124mbye\u001b[39m\u001b[38;5;124m'\u001b[39m)\n\u001b[1;32m----> 5\u001b[0m \u001b[38;5;28mprint\u001b[39m(c\u001b[38;5;241m/\u001b[39md)\n",
      "\u001b[1;31mZeroDivisionError\u001b[0m: division by zero"
     ]
    }
   ],
   "source": [
    "c = 5\n",
    "d = 0\n",
    "\n",
    "print('bye')\n",
    "print(c/d)"
   ]
  },
  {
   "cell_type": "code",
   "execution_count": 5,
   "id": "21c7a035-ff2f-4dc6-a279-b2c6060d3faf",
   "metadata": {},
   "outputs": [
    {
     "name": "stdout",
     "output_type": "stream",
     "text": [
      "hey you cannot divide number by 0\n",
      "bye\n"
     ]
    }
   ],
   "source": [
    "c =3\n",
    "d=0\n",
    "\n",
    "try:\n",
    "    print(c/d)\n",
    "\n",
    "except Exception:\n",
    "    print('hey you cannot divide number by 0')\n",
    "\n",
    "print('bye')"
   ]
  },
  {
   "cell_type": "code",
   "execution_count": 6,
   "id": "1053f1ee-c8dd-4586-99ef-138b86120cd2",
   "metadata": {},
   "outputs": [
    {
     "name": "stdout",
     "output_type": "stream",
     "text": [
      "0.0\n",
      "bye\n"
     ]
    }
   ],
   "source": [
    "c =3\n",
    "d=0\n",
    "\n",
    "try:\n",
    "    print(d/c)\n",
    "\n",
    "except Exception:\n",
    "    print('hey you cannot divide number by 0')\n",
    "\n",
    "print('bye')"
   ]
  },
  {
   "cell_type": "code",
   "execution_count": 8,
   "id": "9c62622d-0a02-499b-a6ab-c186bfd85ce6",
   "metadata": {},
   "outputs": [
    {
     "name": "stdout",
     "output_type": "stream",
     "text": [
      "1.0\n",
      "bye\n"
     ]
    }
   ],
   "source": [
    "c = 3\n",
    "d = 3\n",
    "\n",
    "try:\n",
    "    print(c/d)\n",
    "\n",
    "except Exception as e:\n",
    "    print('hey you cannot divide number by zero', e)\n",
    "\n",
    "print('bye')"
   ]
  },
  {
   "cell_type": "code",
   "execution_count": 9,
   "id": "dd042c53-651d-4e1a-b50a-ebd9596da65f",
   "metadata": {},
   "outputs": [
    {
     "name": "stdout",
     "output_type": "stream",
     "text": [
      "hey you cannot divide number by zero division by zero\n",
      "bye\n"
     ]
    }
   ],
   "source": [
    "c = 3\n",
    "d = 0\n",
    "\n",
    "try:\n",
    "    print(c/d)\n",
    "\n",
    "except Exception as e:\n",
    "    print('hey you cannot divide number by zero', e)\n",
    "\n",
    "print('bye')"
   ]
  },
  {
   "cell_type": "code",
   "execution_count": 10,
   "id": "59de79c8-be53-45dd-8f57-d02bf6486551",
   "metadata": {},
   "outputs": [
    {
     "name": "stdout",
     "output_type": "stream",
     "text": [
      "resource open\n",
      "1.0\n",
      "resource closed\n"
     ]
    }
   ],
   "source": [
    "c = 3\n",
    "d = 3\n",
    "\n",
    "try:\n",
    "    print('resource open')\n",
    "    print(c/d)\n",
    "    print('resource closed')\n",
    "\n",
    "except Exception as e:\n",
    "    print('hey you cannot divide number by 0' , ':', e)"
   ]
  },
  {
   "cell_type": "code",
   "execution_count": 11,
   "id": "d72ce59d-ea90-48d8-8e62-91a9afa2c0ba",
   "metadata": {},
   "outputs": [
    {
     "name": "stdout",
     "output_type": "stream",
     "text": [
      "resource open\n",
      "hey you cannot divide number by 0 : division by zero\n"
     ]
    }
   ],
   "source": [
    "c = 3\n",
    "d = 0\n",
    "\n",
    "try:\n",
    "    print('resource open')\n",
    "    print(c/d)\n",
    "    print('resource closed')\n",
    "\n",
    "except Exception as e:\n",
    "    print('hey you cannot divide number by 0' , ':', e)"
   ]
  },
  {
   "cell_type": "code",
   "execution_count": 13,
   "id": "73c6cac8-9274-4fc3-a693-40d787429b6d",
   "metadata": {},
   "outputs": [
    {
     "name": "stdout",
     "output_type": "stream",
     "text": [
      "resource open\n",
      "hey you cannot divide number by 0 : division by zero\n",
      "resource closed\n"
     ]
    }
   ],
   "source": [
    "c = 3\n",
    "d = 0\n",
    "\n",
    "try:\n",
    "    print('resource open')\n",
    "    print(c/d)\n",
    "\n",
    "except Exception as e:\n",
    "    print('hey you cannot divide number by 0' , ':', e)\n",
    "    print('resource closed')"
   ]
  },
  {
   "cell_type": "code",
   "execution_count": 14,
   "id": "702fbded-95b7-4e6c-9e25-cca4713712ee",
   "metadata": {},
   "outputs": [
    {
     "name": "stdout",
     "output_type": "stream",
     "text": [
      "resource open\n",
      "1.0\n"
     ]
    }
   ],
   "source": [
    "c = 3\n",
    "d = 3\n",
    "\n",
    "try:\n",
    "    print('resource open')\n",
    "    print(c/d)\n",
    "\n",
    "except Exception as e:\n",
    "    print('hey you cannot divide number by 0' , ':', e)\n",
    "    print('resource closed')"
   ]
  },
  {
   "cell_type": "code",
   "execution_count": 15,
   "id": "46fda3f7-61e7-4a80-96a5-48a7517ad7f5",
   "metadata": {},
   "outputs": [
    {
     "name": "stdout",
     "output_type": "stream",
     "text": [
      "resource open\n",
      "1.0\n",
      "resource closed\n"
     ]
    }
   ],
   "source": [
    "c = 3\n",
    "d = 3\n",
    "\n",
    "try:\n",
    "    print('resource open')\n",
    "    print(c/d)\n",
    "\n",
    "except Exception as e:\n",
    "    print('hey you cannot divide number by 0' , ':', e)\n",
    "    print('resource closed')\n",
    "\n",
    "finally:\n",
    "    print('resource closed')"
   ]
  },
  {
   "cell_type": "code",
   "execution_count": 16,
   "id": "63c439f7-f713-4179-a0c8-61f794be9a3f",
   "metadata": {},
   "outputs": [
    {
     "name": "stdout",
     "output_type": "stream",
     "text": [
      "resource open\n",
      "hey you cannot divide number by 0 : division by zero\n",
      "resource closed\n",
      "resource closed\n"
     ]
    }
   ],
   "source": [
    "c = 3\n",
    "d = 0\n",
    "\n",
    "try:\n",
    "    print('resource open')\n",
    "    print(c/d)\n",
    "\n",
    "except Exception as e:\n",
    "    print('hey you cannot divide number by 0' , ':', e)\n",
    "    print('resource closed')\n",
    "\n",
    "finally:\n",
    "    print('resource closed')"
   ]
  },
  {
   "cell_type": "code",
   "execution_count": null,
   "id": "2ebbe9b9-e551-41ed-915d-5d3ed905005b",
   "metadata": {},
   "outputs": [],
   "source": []
  }
 ],
 "metadata": {
  "kernelspec": {
   "display_name": "Python 3 (ipykernel)",
   "language": "python",
   "name": "python3"
  },
  "language_info": {
   "codemirror_mode": {
    "name": "ipython",
    "version": 3
   },
   "file_extension": ".py",
   "mimetype": "text/x-python",
   "name": "python",
   "nbconvert_exporter": "python",
   "pygments_lexer": "ipython3",
   "version": "3.12.7"
  }
 },
 "nbformat": 4,
 "nbformat_minor": 5
}
